{
 "cells": [
  {
   "cell_type": "code",
   "execution_count": 1,
   "id": "a867efa6",
   "metadata": {},
   "outputs": [],
   "source": [
    "import pandas as pd\n",
    "import numpy as np\n",
    "import seaborn as sb\n",
    "import datetime as dt\n",
    "import matplotlib.pyplot as plt"
   ]
  },
  {
   "cell_type": "markdown",
   "id": "4ea68591",
   "metadata": {},
   "source": [
    "# Cleaning for Machine Learning\n",
    "\n",
    "While we have cleaned our data earlier, we have added new columns and group some our data. Thus, we need to remove unnecessary columns. We also need to change all non-numerical columns (i.e. columns with `object` and `bool` type) to a numerical type so that it will be easier when doing classification later on"
   ]
  },
  {
   "cell_type": "code",
   "execution_count": 2,
   "id": "9df9360d",
   "metadata": {
    "scrolled": false
   },
   "outputs": [
    {
     "name": "stdout",
     "output_type": "stream",
     "text": [
      "<class 'pandas.core.frame.DataFrame'>\n",
      "RangeIndex: 30000 entries, 0 to 29999\n",
      "Data columns (total 37 columns):\n",
      " #   Column             Non-Null Count  Dtype         \n",
      "---  ------             --------------  -----         \n",
      " 0   Severity           30000 non-null  int64         \n",
      " 1   Start_Time         30000 non-null  datetime64[ns]\n",
      " 2   Start_Lat          30000 non-null  float64       \n",
      " 3   Start_Lng          30000 non-null  float64       \n",
      " 4   Street             30000 non-null  object        \n",
      " 5   City               30000 non-null  object        \n",
      " 6   County             30000 non-null  object        \n",
      " 7   Zipcode            30000 non-null  int64         \n",
      " 8   Humidity(%)        30000 non-null  float64       \n",
      " 9   Wind_Direction     30000 non-null  float64       \n",
      " 10  Weather_Condition  30000 non-null  object        \n",
      " 11  Amenity            30000 non-null  bool          \n",
      " 12  Bump               30000 non-null  bool          \n",
      " 13  Crossing           30000 non-null  bool          \n",
      " 14  Give_Way           30000 non-null  bool          \n",
      " 15  Junction           30000 non-null  bool          \n",
      " 16  No_Exit            30000 non-null  bool          \n",
      " 17  Railway            30000 non-null  bool          \n",
      " 18  Station            30000 non-null  bool          \n",
      " 19  Stop               30000 non-null  bool          \n",
      " 20  Traffic_Calming    30000 non-null  bool          \n",
      " 21  Traffic_Signal     30000 non-null  bool          \n",
      " 22  Sunrise_Sunset     30000 non-null  object        \n",
      " 23  Distance           30000 non-null  float64       \n",
      " 24  Visibility         30000 non-null  float64       \n",
      " 25  Wind_Speed         30000 non-null  float64       \n",
      " 26  Temperature        30000 non-null  float64       \n",
      " 27  Wind_Chill         30000 non-null  float64       \n",
      " 28  Precipitation      30000 non-null  float64       \n",
      " 29  Pressure           30000 non-null  float64       \n",
      " 30  Sunlight           30000 non-null  bool          \n",
      " 31  Weather            30000 non-null  object        \n",
      " 32  Road_Type          30000 non-null  object        \n",
      " 33  Is_Rush_Hour       30000 non-null  bool          \n",
      " 34  Is_Christmas       30000 non-null  bool          \n",
      " 35  Is_Weekday         30000 non-null  bool          \n",
      " 36  Season             30000 non-null  object        \n",
      "dtypes: bool(15), datetime64[ns](1), float64(11), int64(2), object(8)\n",
      "memory usage: 5.5+ MB\n"
     ]
    }
   ],
   "source": [
    "# let us first make a copy of our dataframe\n",
    "cal_accident_df = pd.read_csv('csv/clean_data2.csv')\n",
    "cal_accident_df['Start_Time'] = pd.to_datetime(cal_accident_df['Start_Time'], format = 'mixed')\n",
    "ml_df = cal_accident_df.copy()\n",
    "ml_df.info()"
   ]
  },
  {
   "cell_type": "markdown",
   "id": "2a11c114",
   "metadata": {},
   "source": [
    "The `Start_Time` column can be further broken down into its individual component like `Month` and `Hour`. This will make it easier when doing machine learning later on"
   ]
  },
  {
   "cell_type": "code",
   "execution_count": 6,
   "id": "9ade3e01",
   "metadata": {},
   "outputs": [],
   "source": [
    "ml_df['Year'] = cal_accident_df['Start_Time'].dt.year\n",
    "ml_df['Month'] = cal_accident_df['Start_Time'].dt.month\n",
    "ml_df['Day'] = cal_accident_df['Start_Time'].dt.day\n",
    "ml_df['Day_Week'] = cal_accident_df['Start_Time'].dt.weekday\n",
    "\n",
    "ml_df['Hour'] = cal_accident_df['Start_Time'].dt.hour\n",
    "ml_df['Minute'] = cal_accident_df['Start_Time'].dt.minute"
   ]
  },
  {
   "cell_type": "markdown",
   "id": "4fad991f",
   "metadata": {},
   "source": [
    "Now, we remove unnecessary columns"
   ]
  },
  {
   "cell_type": "code",
   "execution_count": 7,
   "id": "08e1ba24",
   "metadata": {},
   "outputs": [],
   "source": [
    "# remove columns\n",
    "remove_cols = ['Start_Time', 'Street', 'Sunrise_Sunset', 'Weather_Condition']\n",
    "ml_df = ml_df.drop(columns=remove_cols)"
   ]
  },
  {
   "cell_type": "markdown",
   "id": "41de57c6",
   "metadata": {},
   "source": [
    "Let us take a look at our updated dataframe"
   ]
  },
  {
   "cell_type": "code",
   "execution_count": 8,
   "id": "50352e18",
   "metadata": {},
   "outputs": [
    {
     "name": "stdout",
     "output_type": "stream",
     "text": [
      "<class 'pandas.core.frame.DataFrame'>\n",
      "RangeIndex: 30000 entries, 0 to 29999\n",
      "Data columns (total 39 columns):\n",
      " #   Column           Non-Null Count  Dtype  \n",
      "---  ------           --------------  -----  \n",
      " 0   Severity         30000 non-null  int64  \n",
      " 1   Start_Lat        30000 non-null  float64\n",
      " 2   Start_Lng        30000 non-null  float64\n",
      " 3   City             30000 non-null  object \n",
      " 4   County           30000 non-null  object \n",
      " 5   Zipcode          30000 non-null  int64  \n",
      " 6   Humidity(%)      30000 non-null  float64\n",
      " 7   Wind_Direction   30000 non-null  float64\n",
      " 8   Amenity          30000 non-null  bool   \n",
      " 9   Bump             30000 non-null  bool   \n",
      " 10  Crossing         30000 non-null  bool   \n",
      " 11  Give_Way         30000 non-null  bool   \n",
      " 12  Junction         30000 non-null  bool   \n",
      " 13  No_Exit          30000 non-null  bool   \n",
      " 14  Railway          30000 non-null  bool   \n",
      " 15  Station          30000 non-null  bool   \n",
      " 16  Stop             30000 non-null  bool   \n",
      " 17  Traffic_Calming  30000 non-null  bool   \n",
      " 18  Traffic_Signal   30000 non-null  bool   \n",
      " 19  Distance         30000 non-null  float64\n",
      " 20  Visibility       30000 non-null  float64\n",
      " 21  Wind_Speed       30000 non-null  float64\n",
      " 22  Temperature      30000 non-null  float64\n",
      " 23  Wind_Chill       30000 non-null  float64\n",
      " 24  Precipitation    30000 non-null  float64\n",
      " 25  Pressure         30000 non-null  float64\n",
      " 26  Sunlight         30000 non-null  bool   \n",
      " 27  Weather          30000 non-null  object \n",
      " 28  Road_Type        30000 non-null  object \n",
      " 29  Is_Rush_Hour     30000 non-null  bool   \n",
      " 30  Is_Christmas     30000 non-null  bool   \n",
      " 31  Is_Weekday       30000 non-null  bool   \n",
      " 32  Season           30000 non-null  object \n",
      " 33  Year             30000 non-null  int32  \n",
      " 34  Month            30000 non-null  int32  \n",
      " 35  Day              30000 non-null  int32  \n",
      " 36  Day_Week         30000 non-null  int32  \n",
      " 37  Hour             30000 non-null  int32  \n",
      " 38  Minute           30000 non-null  int32  \n",
      "dtypes: bool(15), float64(11), int32(6), int64(2), object(5)\n",
      "memory usage: 5.2+ MB\n"
     ]
    }
   ],
   "source": [
    "ml_df.info()"
   ]
  },
  {
   "cell_type": "markdown",
   "id": "33d88b5a",
   "metadata": {},
   "source": [
    "Now, let us convert all the column with `object` type into numerical type using `sklearn LabelEncoder`  \n",
    "https://scikit-learn.org/dev/modules/generated/sklearn.preprocessing.LabelEncoder.html   \n",
    "https://stackoverflow.com/questions/44474570/sklearn-label-encoding-multiple-columns-pandas-dataframe"
   ]
  },
  {
   "cell_type": "code",
   "execution_count": 9,
   "id": "d5716676",
   "metadata": {},
   "outputs": [
    {
     "name": "stdout",
     "output_type": "stream",
     "text": [
      "Index(['City', 'County', 'Weather', 'Road_Type', 'Season'], dtype='object')\n"
     ]
    }
   ],
   "source": [
    "# get column of object type\n",
    "object_col = ml_df.select_dtypes(object).columns\n",
    "print(object_col)"
   ]
  },
  {
   "cell_type": "code",
   "execution_count": 10,
   "id": "81b0e2c5",
   "metadata": {},
   "outputs": [],
   "source": [
    "#Label Encoding for object to numeric conversion\n",
    "from sklearn.preprocessing import LabelEncoder\n",
    "le = LabelEncoder()\n",
    "\n",
    "for col in object_col:\n",
    "    ml_df[col] = le.fit_transform(ml_df[col].astype(str))"
   ]
  },
  {
   "cell_type": "code",
   "execution_count": 11,
   "id": "cffcda7b",
   "metadata": {},
   "outputs": [],
   "source": [
    "bool_col = ml_df.select_dtypes(bool).columns\n",
    "for col in bool_col:\n",
    "    ml_df[col] = ml_df[col].astype(int)"
   ]
  },
  {
   "cell_type": "code",
   "execution_count": 12,
   "id": "d65c1dde",
   "metadata": {},
   "outputs": [
    {
     "name": "stdout",
     "output_type": "stream",
     "text": [
      "<class 'pandas.core.frame.DataFrame'>\n",
      "RangeIndex: 30000 entries, 0 to 29999\n",
      "Data columns (total 39 columns):\n",
      " #   Column           Non-Null Count  Dtype  \n",
      "---  ------           --------------  -----  \n",
      " 0   Severity         30000 non-null  int64  \n",
      " 1   Start_Lat        30000 non-null  float64\n",
      " 2   Start_Lng        30000 non-null  float64\n",
      " 3   City             30000 non-null  int32  \n",
      " 4   County           30000 non-null  int32  \n",
      " 5   Zipcode          30000 non-null  int64  \n",
      " 6   Humidity(%)      30000 non-null  float64\n",
      " 7   Wind_Direction   30000 non-null  float64\n",
      " 8   Amenity          30000 non-null  int32  \n",
      " 9   Bump             30000 non-null  int32  \n",
      " 10  Crossing         30000 non-null  int32  \n",
      " 11  Give_Way         30000 non-null  int32  \n",
      " 12  Junction         30000 non-null  int32  \n",
      " 13  No_Exit          30000 non-null  int32  \n",
      " 14  Railway          30000 non-null  int32  \n",
      " 15  Station          30000 non-null  int32  \n",
      " 16  Stop             30000 non-null  int32  \n",
      " 17  Traffic_Calming  30000 non-null  int32  \n",
      " 18  Traffic_Signal   30000 non-null  int32  \n",
      " 19  Distance         30000 non-null  float64\n",
      " 20  Visibility       30000 non-null  float64\n",
      " 21  Wind_Speed       30000 non-null  float64\n",
      " 22  Temperature      30000 non-null  float64\n",
      " 23  Wind_Chill       30000 non-null  float64\n",
      " 24  Precipitation    30000 non-null  float64\n",
      " 25  Pressure         30000 non-null  float64\n",
      " 26  Sunlight         30000 non-null  int32  \n",
      " 27  Weather          30000 non-null  int32  \n",
      " 28  Road_Type        30000 non-null  int32  \n",
      " 29  Is_Rush_Hour     30000 non-null  int32  \n",
      " 30  Is_Christmas     30000 non-null  int32  \n",
      " 31  Is_Weekday       30000 non-null  int32  \n",
      " 32  Season           30000 non-null  int32  \n",
      " 33  Year             30000 non-null  int32  \n",
      " 34  Month            30000 non-null  int32  \n",
      " 35  Day              30000 non-null  int32  \n",
      " 36  Day_Week         30000 non-null  int32  \n",
      " 37  Hour             30000 non-null  int32  \n",
      " 38  Minute           30000 non-null  int32  \n",
      "dtypes: float64(11), int32(26), int64(2)\n",
      "memory usage: 6.0 MB\n"
     ]
    }
   ],
   "source": [
    "ml_df.info()"
   ]
  },
  {
   "attachments": {
    "image-3.png": {
     "image/png": "[encoded data removed]"
    }
   },
   "cell_type": "markdown",
   "id": "276a2a12",
   "metadata": {},
   "source": [
    "---\n",
    "# Resampling\n",
    "\n",
    "As seen from our above analysis, `Severity = 2` is causing an imbalanced data with more than 95 % of our data being `Severity = 2`. This would cause a high accuracy from all our classification method later on as it will be skewed towards `Severity = 2`.\n",
    "\n",
    "Hence, we need to use resampling in order to even out the ratio between the different `Severity`\n",
    "\n",
    "![image-3.png](attachment:image-3.png)"
   ]
  },
  {
   "cell_type": "code",
   "execution_count": 13,
   "id": "4e2b581c",
   "metadata": {},
   "outputs": [],
   "source": [
    "from sklearn.model_selection import train_test_split\n",
    "\n",
    "predictors = [ele for ele in ml_df.columns if ele != 'Severity']\n",
    "# print(predictors)\n",
    "\n",
    "y = pd.DataFrame(ml_df['Severity'])\n",
    "X = pd.DataFrame(ml_df[predictors])\n",
    "\n",
    "# Split the Dataset into Train and Test\n",
    "X_train, X_test, y_train, y_test = train_test_split(X, y, test_size = 0.2, random_state = 20)"
   ]
  },
  {
   "cell_type": "code",
   "execution_count": 14,
   "id": "21521a0c",
   "metadata": {},
   "outputs": [
    {
     "name": "stdout",
     "output_type": "stream",
     "text": [
      "Severity\n",
      "1             126\n",
      "2           23507\n",
      "3             178\n",
      "4             189\n",
      "Name: count, dtype: int64\n"
     ]
    }
   ],
   "source": [
    "print(y_train.value_counts().sort_index())"
   ]
  },
  {
   "cell_type": "code",
   "execution_count": 46,
   "id": "aadb17bb",
   "metadata": {},
   "outputs": [
    {
     "name": "stdout",
     "output_type": "stream",
     "text": [
      "<class 'pandas.core.frame.DataFrame'>\n",
      "Index: 24000 entries, 11401 to 15715\n",
      "Data columns (total 38 columns):\n",
      " #   Column           Non-Null Count  Dtype  \n",
      "---  ------           --------------  -----  \n",
      " 0   Start_Lat        24000 non-null  float64\n",
      " 1   Start_Lng        24000 non-null  float64\n",
      " 2   City             24000 non-null  int32  \n",
      " 3   County           24000 non-null  int32  \n",
      " 4   Zipcode          24000 non-null  int64  \n",
      " 5   Humidity(%)      24000 non-null  float64\n",
      " 6   Wind_Direction   24000 non-null  float64\n",
      " 7   Amenity          24000 non-null  int32  \n",
      " 8   Bump             24000 non-null  int32  \n",
      " 9   Crossing         24000 non-null  int32  \n",
      " 10  Give_Way         24000 non-null  int32  \n",
      " 11  Junction         24000 non-null  int32  \n",
      " 12  No_Exit          24000 non-null  int32  \n",
      " 13  Railway          24000 non-null  int32  \n",
      " 14  Station          24000 non-null  int32  \n",
      " 15  Stop             24000 non-null  int32  \n",
      " 16  Traffic_Calming  24000 non-null  int32  \n",
      " 17  Traffic_Signal   24000 non-null  int32  \n",
      " 18  Distance         24000 non-null  float64\n",
      " 19  Visibility       24000 non-null  float64\n",
      " 20  Wind_Speed       24000 non-null  float64\n",
      " 21  Temperature      24000 non-null  float64\n",
      " 22  Wind_Chill       24000 non-null  float64\n",
      " 23  Precipitation    24000 non-null  float64\n",
      " 24  Pressure         24000 non-null  float64\n",
      " 25  Sunlight         24000 non-null  int32  \n",
      " 26  Weather          24000 non-null  int32  \n",
      " 27  Road_Type        24000 non-null  int32  \n",
      " 28  Is_Rush_Hour     24000 non-null  int32  \n",
      " 29  Is_Christmas     24000 non-null  int32  \n",
      " 30  Is_Weekday       24000 non-null  int32  \n",
      " 31  Season           24000 non-null  int32  \n",
      " 32  Year             24000 non-null  int32  \n",
      " 33  Month            24000 non-null  int32  \n",
      " 34  Day              24000 non-null  int32  \n",
      " 35  Day_Week         24000 non-null  int32  \n",
      " 36  Hour             24000 non-null  int32  \n",
      " 37  Minute           24000 non-null  int32  \n",
      "dtypes: float64(11), int32(26), int64(1)\n",
      "memory usage: 4.8 MB\n"
     ]
    }
   ],
   "source": [
    "X_train.info()"
   ]
  },
  {
   "cell_type": "code",
   "execution_count": 45,
   "id": "dc8579e5",
   "metadata": {},
   "outputs": [
    {
     "data": {
      "text/html": [
       "<div>\n",
       "<style scoped>\n",
       "    .dataframe tbody tr th:only-of-type {\n",
       "        vertical-align: middle;\n",
       "    }\n",
       "\n",
       "    .dataframe tbody tr th {\n",
       "        vertical-align: top;\n",
       "    }\n",
       "\n",
       "    .dataframe thead th {\n",
       "        text-align: right;\n",
       "    }\n",
       "</style>\n",
       "<table border=\"1\" class=\"dataframe\">\n",
       "  <thead>\n",
       "    <tr style=\"text-align: right;\">\n",
       "      <th></th>\n",
       "      <th>Severity</th>\n",
       "    </tr>\n",
       "  </thead>\n",
       "  <tbody>\n",
       "    <tr>\n",
       "      <th>11401</th>\n",
       "      <td>2</td>\n",
       "    </tr>\n",
       "    <tr>\n",
       "      <th>18002</th>\n",
       "      <td>2</td>\n",
       "    </tr>\n",
       "    <tr>\n",
       "      <th>6636</th>\n",
       "      <td>2</td>\n",
       "    </tr>\n",
       "    <tr>\n",
       "      <th>6431</th>\n",
       "      <td>2</td>\n",
       "    </tr>\n",
       "    <tr>\n",
       "      <th>28067</th>\n",
       "      <td>2</td>\n",
       "    </tr>\n",
       "    <tr>\n",
       "      <th>...</th>\n",
       "      <td>...</td>\n",
       "    </tr>\n",
       "    <tr>\n",
       "      <th>23452</th>\n",
       "      <td>2</td>\n",
       "    </tr>\n",
       "    <tr>\n",
       "      <th>23775</th>\n",
       "      <td>2</td>\n",
       "    </tr>\n",
       "    <tr>\n",
       "      <th>4367</th>\n",
       "      <td>2</td>\n",
       "    </tr>\n",
       "    <tr>\n",
       "      <th>27098</th>\n",
       "      <td>2</td>\n",
       "    </tr>\n",
       "    <tr>\n",
       "      <th>15715</th>\n",
       "      <td>2</td>\n",
       "    </tr>\n",
       "  </tbody>\n",
       "</table>\n",
       "<p>24000 rows × 1 columns</p>\n",
       "</div>"
      ],
      "text/plain": [
       "       Severity\n",
       "11401         2\n",
       "18002         2\n",
       "6636          2\n",
       "6431          2\n",
       "28067         2\n",
       "...         ...\n",
       "23452         2\n",
       "23775         2\n",
       "4367          2\n",
       "27098         2\n",
       "15715         2\n",
       "\n",
       "[24000 rows x 1 columns]"
      ]
     },
     "execution_count": 45,
     "metadata": {},
     "output_type": "execute_result"
    }
   ],
   "source": [
    "y_train"
   ]
  },
  {
   "cell_type": "markdown",
   "id": "b6a20156",
   "metadata": {},
   "source": [
    "Above, we can see the imbalance in the data, hence requiring resampling"
   ]
  },
  {
   "cell_type": "markdown",
   "id": "3d752069",
   "metadata": {},
   "source": [
    "## Resampling using SMOTE"
   ]
  },
  {
   "cell_type": "code",
   "execution_count": 15,
   "id": "abfd7525",
   "metadata": {},
   "outputs": [],
   "source": [
    "from imblearn.over_sampling import SMOTE\n",
    "\n",
    "sm = SMOTE(random_state=20)\n",
    "X_res, y_res = sm.fit_resample(X_train, y_train)"
   ]
  },
  {
   "cell_type": "code",
   "execution_count": 16,
   "id": "a6be1ee2",
   "metadata": {},
   "outputs": [
    {
     "data": {
      "text/plain": [
       "(94028, 38)"
      ]
     },
     "execution_count": 16,
     "metadata": {},
     "output_type": "execute_result"
    }
   ],
   "source": [
    "X_res.shape"
   ]
  },
  {
   "cell_type": "code",
   "execution_count": 17,
   "id": "b385ae62",
   "metadata": {
    "scrolled": false
   },
   "outputs": [
    {
     "data": {
      "text/plain": [
       "Severity\n",
       "1           23507\n",
       "2           23507\n",
       "3           23507\n",
       "4           23507\n",
       "Name: count, dtype: int64"
      ]
     },
     "execution_count": 17,
     "metadata": {},
     "output_type": "execute_result"
    }
   ],
   "source": [
    "y_res.value_counts()"
   ]
  },
  {
   "cell_type": "code",
   "execution_count": 18,
   "id": "5d2a7beb",
   "metadata": {},
   "outputs": [
    {
     "data": {
      "text/html": [
       "<div>\n",
       "<style scoped>\n",
       "    .dataframe tbody tr th:only-of-type {\n",
       "        vertical-align: middle;\n",
       "    }\n",
       "\n",
       "    .dataframe tbody tr th {\n",
       "        vertical-align: top;\n",
       "    }\n",
       "\n",
       "    .dataframe thead th {\n",
       "        text-align: right;\n",
       "    }\n",
       "</style>\n",
       "<table border=\"1\" class=\"dataframe\">\n",
       "  <thead>\n",
       "    <tr style=\"text-align: right;\">\n",
       "      <th></th>\n",
       "      <th>Start_Lat</th>\n",
       "      <th>Start_Lng</th>\n",
       "      <th>City</th>\n",
       "      <th>County</th>\n",
       "      <th>Zipcode</th>\n",
       "      <th>Humidity(%)</th>\n",
       "      <th>Wind_Direction</th>\n",
       "      <th>Amenity</th>\n",
       "      <th>Bump</th>\n",
       "      <th>Crossing</th>\n",
       "      <th>...</th>\n",
       "      <th>Is_Rush_Hour</th>\n",
       "      <th>Is_Christmas</th>\n",
       "      <th>Is_Weekday</th>\n",
       "      <th>Season</th>\n",
       "      <th>Year</th>\n",
       "      <th>Month</th>\n",
       "      <th>Day</th>\n",
       "      <th>Day_Week</th>\n",
       "      <th>Hour</th>\n",
       "      <th>Minute</th>\n",
       "    </tr>\n",
       "  </thead>\n",
       "  <tbody>\n",
       "    <tr>\n",
       "      <th>0</th>\n",
       "      <td>38.416346</td>\n",
       "      <td>-119.450000</td>\n",
       "      <td>169</td>\n",
       "      <td>25</td>\n",
       "      <td>96100</td>\n",
       "      <td>45.0</td>\n",
       "      <td>202.5</td>\n",
       "      <td>0</td>\n",
       "      <td>0</td>\n",
       "      <td>0</td>\n",
       "      <td>...</td>\n",
       "      <td>0</td>\n",
       "      <td>0</td>\n",
       "      <td>1</td>\n",
       "      <td>3</td>\n",
       "      <td>2021</td>\n",
       "      <td>1</td>\n",
       "      <td>4</td>\n",
       "      <td>0</td>\n",
       "      <td>21</td>\n",
       "      <td>35</td>\n",
       "    </tr>\n",
       "    <tr>\n",
       "      <th>1</th>\n",
       "      <td>33.888637</td>\n",
       "      <td>-118.207097</td>\n",
       "      <td>176</td>\n",
       "      <td>18</td>\n",
       "      <td>90200</td>\n",
       "      <td>39.0</td>\n",
       "      <td>-1.0</td>\n",
       "      <td>0</td>\n",
       "      <td>0</td>\n",
       "      <td>0</td>\n",
       "      <td>...</td>\n",
       "      <td>0</td>\n",
       "      <td>0</td>\n",
       "      <td>1</td>\n",
       "      <td>1</td>\n",
       "      <td>2023</td>\n",
       "      <td>3</td>\n",
       "      <td>27</td>\n",
       "      <td>0</td>\n",
       "      <td>21</td>\n",
       "      <td>41</td>\n",
       "    </tr>\n",
       "    <tr>\n",
       "      <th>2</th>\n",
       "      <td>37.651650</td>\n",
       "      <td>-122.098680</td>\n",
       "      <td>333</td>\n",
       "      <td>0</td>\n",
       "      <td>94500</td>\n",
       "      <td>71.0</td>\n",
       "      <td>-1.0</td>\n",
       "      <td>0</td>\n",
       "      <td>0</td>\n",
       "      <td>0</td>\n",
       "      <td>...</td>\n",
       "      <td>1</td>\n",
       "      <td>0</td>\n",
       "      <td>1</td>\n",
       "      <td>1</td>\n",
       "      <td>2020</td>\n",
       "      <td>3</td>\n",
       "      <td>9</td>\n",
       "      <td>0</td>\n",
       "      <td>9</td>\n",
       "      <td>15</td>\n",
       "    </tr>\n",
       "    <tr>\n",
       "      <th>3</th>\n",
       "      <td>33.859729</td>\n",
       "      <td>-118.307619</td>\n",
       "      <td>296</td>\n",
       "      <td>18</td>\n",
       "      <td>90200</td>\n",
       "      <td>81.0</td>\n",
       "      <td>247.5</td>\n",
       "      <td>0</td>\n",
       "      <td>0</td>\n",
       "      <td>0</td>\n",
       "      <td>...</td>\n",
       "      <td>1</td>\n",
       "      <td>0</td>\n",
       "      <td>1</td>\n",
       "      <td>2</td>\n",
       "      <td>2022</td>\n",
       "      <td>7</td>\n",
       "      <td>20</td>\n",
       "      <td>2</td>\n",
       "      <td>7</td>\n",
       "      <td>41</td>\n",
       "    </tr>\n",
       "    <tr>\n",
       "      <th>4</th>\n",
       "      <td>34.053143</td>\n",
       "      <td>-118.963125</td>\n",
       "      <td>469</td>\n",
       "      <td>55</td>\n",
       "      <td>90300</td>\n",
       "      <td>83.0</td>\n",
       "      <td>45.0</td>\n",
       "      <td>0</td>\n",
       "      <td>0</td>\n",
       "      <td>0</td>\n",
       "      <td>...</td>\n",
       "      <td>1</td>\n",
       "      <td>0</td>\n",
       "      <td>1</td>\n",
       "      <td>3</td>\n",
       "      <td>2021</td>\n",
       "      <td>1</td>\n",
       "      <td>22</td>\n",
       "      <td>4</td>\n",
       "      <td>6</td>\n",
       "      <td>4</td>\n",
       "    </tr>\n",
       "  </tbody>\n",
       "</table>\n",
       "<p>5 rows × 38 columns</p>\n",
       "</div>"
      ],
      "text/plain": [
       "   Start_Lat   Start_Lng  City  County  Zipcode  Humidity(%)  Wind_Direction  \\\n",
       "0  38.416346 -119.450000   169      25    96100         45.0           202.5   \n",
       "1  33.888637 -118.207097   176      18    90200         39.0            -1.0   \n",
       "2  37.651650 -122.098680   333       0    94500         71.0            -1.0   \n",
       "3  33.859729 -118.307619   296      18    90200         81.0           247.5   \n",
       "4  34.053143 -118.963125   469      55    90300         83.0            45.0   \n",
       "\n",
       "   Amenity  Bump  Crossing  ...  Is_Rush_Hour  Is_Christmas  Is_Weekday  \\\n",
       "0        0     0         0  ...             0             0           1   \n",
       "1        0     0         0  ...             0             0           1   \n",
       "2        0     0         0  ...             1             0           1   \n",
       "3        0     0         0  ...             1             0           1   \n",
       "4        0     0         0  ...             1             0           1   \n",
       "\n",
       "   Season  Year  Month  Day  Day_Week  Hour  Minute  \n",
       "0       3  2021      1    4         0    21      35  \n",
       "1       1  2023      3   27         0    21      41  \n",
       "2       1  2020      3    9         0     9      15  \n",
       "3       2  2022      7   20         2     7      41  \n",
       "4       3  2021      1   22         4     6       4  \n",
       "\n",
       "[5 rows x 38 columns]"
      ]
     },
     "execution_count": 18,
     "metadata": {},
     "output_type": "execute_result"
    }
   ],
   "source": [
    "X_res.head()"
   ]
  },
  {
   "cell_type": "code",
   "execution_count": 19,
   "id": "42ed6845",
   "metadata": {},
   "outputs": [
    {
     "name": "stdout",
     "output_type": "stream",
     "text": [
      "<class 'pandas.core.frame.DataFrame'>\n",
      "RangeIndex: 94028 entries, 0 to 94027\n",
      "Data columns (total 39 columns):\n",
      " #   Column           Non-Null Count  Dtype  \n",
      "---  ------           --------------  -----  \n",
      " 0   Severity         94028 non-null  int64  \n",
      " 1   Start_Lat        94028 non-null  float64\n",
      " 2   Start_Lng        94028 non-null  float64\n",
      " 3   City             94028 non-null  int32  \n",
      " 4   County           94028 non-null  int32  \n",
      " 5   Zipcode          94028 non-null  int64  \n",
      " 6   Humidity(%)      94028 non-null  float64\n",
      " 7   Wind_Direction   94028 non-null  float64\n",
      " 8   Amenity          94028 non-null  int32  \n",
      " 9   Bump             94028 non-null  int32  \n",
      " 10  Crossing         94028 non-null  int32  \n",
      " 11  Give_Way         94028 non-null  int32  \n",
      " 12  Junction         94028 non-null  int32  \n",
      " 13  No_Exit          94028 non-null  int32  \n",
      " 14  Railway          94028 non-null  int32  \n",
      " 15  Station          94028 non-null  int32  \n",
      " 16  Stop             94028 non-null  int32  \n",
      " 17  Traffic_Calming  94028 non-null  int32  \n",
      " 18  Traffic_Signal   94028 non-null  int32  \n",
      " 19  Distance         94028 non-null  float64\n",
      " 20  Visibility       94028 non-null  float64\n",
      " 21  Wind_Speed       94028 non-null  float64\n",
      " 22  Temperature      94028 non-null  float64\n",
      " 23  Wind_Chill       94028 non-null  float64\n",
      " 24  Precipitation    94028 non-null  float64\n",
      " 25  Pressure         94028 non-null  float64\n",
      " 26  Sunlight         94028 non-null  int32  \n",
      " 27  Weather          94028 non-null  int32  \n",
      " 28  Road_Type        94028 non-null  int32  \n",
      " 29  Is_Rush_Hour     94028 non-null  int32  \n",
      " 30  Is_Christmas     94028 non-null  int32  \n",
      " 31  Is_Weekday       94028 non-null  int32  \n",
      " 32  Season           94028 non-null  int32  \n",
      " 33  Year             94028 non-null  int32  \n",
      " 34  Month            94028 non-null  int32  \n",
      " 35  Day              94028 non-null  int32  \n",
      " 36  Day_Week         94028 non-null  int32  \n",
      " 37  Hour             94028 non-null  int32  \n",
      " 38  Minute           94028 non-null  int32  \n",
      "dtypes: float64(11), int32(26), int64(2)\n",
      "memory usage: 18.7 MB\n"
     ]
    }
   ],
   "source": [
    "# save resampled data to csv \n",
    "sm_df = pd.concat([y_res, X_res], axis=1)\n",
    "sm_df.info()\n",
    "# sm_df.to_csv('data_resampled_SMOTE.csv', index=False)"
   ]
  },
  {
   "cell_type": "markdown",
   "id": "d7530ffb",
   "metadata": {},
   "source": [
    "## Resampling using SMOTEENN"
   ]
  },
  {
   "cell_type": "code",
   "execution_count": 20,
   "id": "c091aa5d",
   "metadata": {},
   "outputs": [],
   "source": [
    "from imblearn.combine import SMOTEENN\n",
    "\n",
    "sme = SMOTEENN(random_state=20)\n",
    "X_res, y_res = sme.fit_resample(X_train, y_train)"
   ]
  },
  {
   "cell_type": "code",
   "execution_count": 21,
   "id": "5a30507a",
   "metadata": {},
   "outputs": [
    {
     "data": {
      "text/plain": [
       "(89720, 38)"
      ]
     },
     "execution_count": 21,
     "metadata": {},
     "output_type": "execute_result"
    }
   ],
   "source": [
    "X_res.shape"
   ]
  },
  {
   "cell_type": "code",
   "execution_count": 22,
   "id": "abaf1eca",
   "metadata": {},
   "outputs": [
    {
     "data": {
      "text/plain": [
       "Severity\n",
       "1           23476\n",
       "2           19501\n",
       "3           23405\n",
       "4           23338\n",
       "Name: count, dtype: int64"
      ]
     },
     "execution_count": 22,
     "metadata": {},
     "output_type": "execute_result"
    }
   ],
   "source": [
    "y_res.value_counts().sort_index()"
   ]
  },
  {
   "cell_type": "code",
   "execution_count": 23,
   "id": "6090a6bc",
   "metadata": {},
   "outputs": [
    {
     "name": "stdout",
     "output_type": "stream",
     "text": [
      "<class 'pandas.core.frame.DataFrame'>\n",
      "RangeIndex: 89720 entries, 0 to 89719\n",
      "Data columns (total 39 columns):\n",
      " #   Column           Non-Null Count  Dtype  \n",
      "---  ------           --------------  -----  \n",
      " 0   Severity         89720 non-null  int64  \n",
      " 1   Start_Lat        89720 non-null  float64\n",
      " 2   Start_Lng        89720 non-null  float64\n",
      " 3   City             89720 non-null  int32  \n",
      " 4   County           89720 non-null  int32  \n",
      " 5   Zipcode          89720 non-null  int64  \n",
      " 6   Humidity(%)      89720 non-null  float64\n",
      " 7   Wind_Direction   89720 non-null  float64\n",
      " 8   Amenity          89720 non-null  int32  \n",
      " 9   Bump             89720 non-null  int32  \n",
      " 10  Crossing         89720 non-null  int32  \n",
      " 11  Give_Way         89720 non-null  int32  \n",
      " 12  Junction         89720 non-null  int32  \n",
      " 13  No_Exit          89720 non-null  int32  \n",
      " 14  Railway          89720 non-null  int32  \n",
      " 15  Station          89720 non-null  int32  \n",
      " 16  Stop             89720 non-null  int32  \n",
      " 17  Traffic_Calming  89720 non-null  int32  \n",
      " 18  Traffic_Signal   89720 non-null  int32  \n",
      " 19  Distance         89720 non-null  float64\n",
      " 20  Visibility       89720 non-null  float64\n",
      " 21  Wind_Speed       89720 non-null  float64\n",
      " 22  Temperature      89720 non-null  float64\n",
      " 23  Wind_Chill       89720 non-null  float64\n",
      " 24  Precipitation    89720 non-null  float64\n",
      " 25  Pressure         89720 non-null  float64\n",
      " 26  Sunlight         89720 non-null  int32  \n",
      " 27  Weather          89720 non-null  int32  \n",
      " 28  Road_Type        89720 non-null  int32  \n",
      " 29  Is_Rush_Hour     89720 non-null  int32  \n",
      " 30  Is_Christmas     89720 non-null  int32  \n",
      " 31  Is_Weekday       89720 non-null  int32  \n",
      " 32  Season           89720 non-null  int32  \n",
      " 33  Year             89720 non-null  int32  \n",
      " 34  Month            89720 non-null  int32  \n",
      " 35  Day              89720 non-null  int32  \n",
      " 36  Day_Week         89720 non-null  int32  \n",
      " 37  Hour             89720 non-null  int32  \n",
      " 38  Minute           89720 non-null  int32  \n",
      "dtypes: float64(11), int32(26), int64(2)\n",
      "memory usage: 17.8 MB\n"
     ]
    }
   ],
   "source": [
    "# save resampled data to csv \n",
    "sme_df = pd.concat([y_res, X_res], axis=1)\n",
    "sme_df.info()\n",
    "# sme_df.to_csv('data_resampled_SMOTEENN.csv', index=False)"
   ]
  },
  {
   "cell_type": "markdown",
   "id": "9108d701",
   "metadata": {},
   "source": [
    "## Resampling using SMOTETomek"
   ]
  },
  {
   "cell_type": "code",
   "execution_count": 24,
   "id": "79753971",
   "metadata": {},
   "outputs": [],
   "source": [
    "from imblearn.combine import SMOTETomek\n",
    "\n",
    "smt = SMOTETomek(random_state=20)\n",
    "X_res, y_res = smt.fit_resample(X_train, y_train)"
   ]
  },
  {
   "cell_type": "code",
   "execution_count": 25,
   "id": "24d01fa0",
   "metadata": {},
   "outputs": [
    {
     "data": {
      "text/plain": [
       "(94012, 38)"
      ]
     },
     "execution_count": 25,
     "metadata": {},
     "output_type": "execute_result"
    }
   ],
   "source": [
    "X_res.shape"
   ]
  },
  {
   "cell_type": "code",
   "execution_count": 26,
   "id": "b2824c1a",
   "metadata": {},
   "outputs": [
    {
     "data": {
      "text/plain": [
       "Severity\n",
       "1           23506\n",
       "2           23499\n",
       "3           23504\n",
       "4           23503\n",
       "Name: count, dtype: int64"
      ]
     },
     "execution_count": 26,
     "metadata": {},
     "output_type": "execute_result"
    }
   ],
   "source": [
    "y_res.value_counts().sort_index()"
   ]
  },
  {
   "cell_type": "code",
   "execution_count": 27,
   "id": "51739bc4",
   "metadata": {},
   "outputs": [
    {
     "name": "stdout",
     "output_type": "stream",
     "text": [
      "<class 'pandas.core.frame.DataFrame'>\n",
      "RangeIndex: 94012 entries, 0 to 94011\n",
      "Data columns (total 39 columns):\n",
      " #   Column           Non-Null Count  Dtype  \n",
      "---  ------           --------------  -----  \n",
      " 0   Severity         94012 non-null  int64  \n",
      " 1   Start_Lat        94012 non-null  float64\n",
      " 2   Start_Lng        94012 non-null  float64\n",
      " 3   City             94012 non-null  int32  \n",
      " 4   County           94012 non-null  int32  \n",
      " 5   Zipcode          94012 non-null  int64  \n",
      " 6   Humidity(%)      94012 non-null  float64\n",
      " 7   Wind_Direction   94012 non-null  float64\n",
      " 8   Amenity          94012 non-null  int32  \n",
      " 9   Bump             94012 non-null  int32  \n",
      " 10  Crossing         94012 non-null  int32  \n",
      " 11  Give_Way         94012 non-null  int32  \n",
      " 12  Junction         94012 non-null  int32  \n",
      " 13  No_Exit          94012 non-null  int32  \n",
      " 14  Railway          94012 non-null  int32  \n",
      " 15  Station          94012 non-null  int32  \n",
      " 16  Stop             94012 non-null  int32  \n",
      " 17  Traffic_Calming  94012 non-null  int32  \n",
      " 18  Traffic_Signal   94012 non-null  int32  \n",
      " 19  Distance         94012 non-null  float64\n",
      " 20  Visibility       94012 non-null  float64\n",
      " 21  Wind_Speed       94012 non-null  float64\n",
      " 22  Temperature      94012 non-null  float64\n",
      " 23  Wind_Chill       94012 non-null  float64\n",
      " 24  Precipitation    94012 non-null  float64\n",
      " 25  Pressure         94012 non-null  float64\n",
      " 26  Sunlight         94012 non-null  int32  \n",
      " 27  Weather          94012 non-null  int32  \n",
      " 28  Road_Type        94012 non-null  int32  \n",
      " 29  Is_Rush_Hour     94012 non-null  int32  \n",
      " 30  Is_Christmas     94012 non-null  int32  \n",
      " 31  Is_Weekday       94012 non-null  int32  \n",
      " 32  Season           94012 non-null  int32  \n",
      " 33  Year             94012 non-null  int32  \n",
      " 34  Month            94012 non-null  int32  \n",
      " 35  Day              94012 non-null  int32  \n",
      " 36  Day_Week         94012 non-null  int32  \n",
      " 37  Hour             94012 non-null  int32  \n",
      " 38  Minute           94012 non-null  int32  \n",
      "dtypes: float64(11), int32(26), int64(2)\n",
      "memory usage: 18.6 MB\n"
     ]
    }
   ],
   "source": [
    "# save resampled data to csv \n",
    "smt_df = pd.concat([y_res, X_res], axis=1)\n",
    "smt_df.info()\n",
    "# smt_df.to_csv('data_resampled_SMOTETomek.csv', index=False)"
   ]
  },
  {
   "cell_type": "markdown",
   "id": "bb5f28e8",
   "metadata": {},
   "source": [
    "## Save test data"
   ]
  },
  {
   "cell_type": "code",
   "execution_count": 28,
   "id": "7726d4fe",
   "metadata": {},
   "outputs": [
    {
     "name": "stdout",
     "output_type": "stream",
     "text": [
      "<class 'pandas.core.frame.DataFrame'>\n",
      "Index: 6000 entries, 4455 to 5400\n",
      "Data columns (total 39 columns):\n",
      " #   Column           Non-Null Count  Dtype  \n",
      "---  ------           --------------  -----  \n",
      " 0   Severity         6000 non-null   int64  \n",
      " 1   Start_Lat        6000 non-null   float64\n",
      " 2   Start_Lng        6000 non-null   float64\n",
      " 3   City             6000 non-null   int32  \n",
      " 4   County           6000 non-null   int32  \n",
      " 5   Zipcode          6000 non-null   int64  \n",
      " 6   Humidity(%)      6000 non-null   float64\n",
      " 7   Wind_Direction   6000 non-null   float64\n",
      " 8   Amenity          6000 non-null   int32  \n",
      " 9   Bump             6000 non-null   int32  \n",
      " 10  Crossing         6000 non-null   int32  \n",
      " 11  Give_Way         6000 non-null   int32  \n",
      " 12  Junction         6000 non-null   int32  \n",
      " 13  No_Exit          6000 non-null   int32  \n",
      " 14  Railway          6000 non-null   int32  \n",
      " 15  Station          6000 non-null   int32  \n",
      " 16  Stop             6000 non-null   int32  \n",
      " 17  Traffic_Calming  6000 non-null   int32  \n",
      " 18  Traffic_Signal   6000 non-null   int32  \n",
      " 19  Distance         6000 non-null   float64\n",
      " 20  Visibility       6000 non-null   float64\n",
      " 21  Wind_Speed       6000 non-null   float64\n",
      " 22  Temperature      6000 non-null   float64\n",
      " 23  Wind_Chill       6000 non-null   float64\n",
      " 24  Precipitation    6000 non-null   float64\n",
      " 25  Pressure         6000 non-null   float64\n",
      " 26  Sunlight         6000 non-null   int32  \n",
      " 27  Weather          6000 non-null   int32  \n",
      " 28  Road_Type        6000 non-null   int32  \n",
      " 29  Is_Rush_Hour     6000 non-null   int32  \n",
      " 30  Is_Christmas     6000 non-null   int32  \n",
      " 31  Is_Weekday       6000 non-null   int32  \n",
      " 32  Season           6000 non-null   int32  \n",
      " 33  Year             6000 non-null   int32  \n",
      " 34  Month            6000 non-null   int32  \n",
      " 35  Day              6000 non-null   int32  \n",
      " 36  Day_Week         6000 non-null   int32  \n",
      " 37  Hour             6000 non-null   int32  \n",
      " 38  Minute           6000 non-null   int32  \n",
      "dtypes: float64(11), int32(26), int64(2)\n",
      "memory usage: 1.2 MB\n"
     ]
    }
   ],
   "source": [
    "test_df = pd.concat([y_test, X_test], axis=1)\n",
    "test_df.info()\n",
    "# test_df.to_csv('test.csv', index=False)"
   ]
  },
  {
   "cell_type": "markdown",
   "id": "a0d8c073",
   "metadata": {},
   "source": [
    "Let's visualise the ratio of the different sampling results"
   ]
  },
  {
   "cell_type": "code",
   "execution_count": 43,
   "id": "70cbde33",
   "metadata": {},
   "outputs": [
    {
     "data": {
      "image/png": "[encoded data removed]",
      "text/plain": [
       "<Figure size 1400x400 with 4 Axes>"
      ]
     },
     "metadata": {},
     "output_type": "display_data"
    }
   ],
   "source": [
    "f, axes = plt.subplots(1, 4, figsize=(14, 4))\n",
    "\n",
    "blue = '#1f77b4'\n",
    "orange = '#ff7f0e'\n",
    "green = '#2ca02c'\n",
    "red = '#d62728'\n",
    "colors = [blue, orange, green, red]\n",
    "\n",
    "ml_df['Severity'].value_counts().sort_index().plot(kind='bar', rot=0, color=colors, ax=axes[0], ylabel='Count', title='Original')\n",
    "sm_df['Severity'].value_counts().sort_index().plot(kind='bar', rot=0, color=colors, ax=axes[1], title='SMOTE Resampling')\n",
    "sme_df['Severity'].value_counts().sort_index().plot(kind='bar', rot=0, color=colors, ax=axes[2], title='SMOTEENN Resampling')\n",
    "smt_df['Severity'].value_counts().sort_index().plot(kind='bar', rot=0, color=colors, ax=axes[3], title='SMOTETomek Resampling')\n",
    "\n",
    "plt.tight_layout()"
   ]
  },
  {
   "cell_type": "code",
   "execution_count": null,
   "id": "af5e7e65",
   "metadata": {},
   "outputs": [],
   "source": []
  }
 ],
 "metadata": {
  "kernelspec": {
   "display_name": "Python 3 (ipykernel)",
   "language": "python",
   "name": "python3"
  },
  "language_info": {
   "codemirror_mode": {
    "name": "ipython",
    "version": 3
   },
   "file_extension": ".py",
   "mimetype": "text/x-python",
   "name": "python",
   "nbconvert_exporter": "python",
   "pygments_lexer": "ipython3",
   "version": "3.11.5"
  }
 },
 "nbformat": 4,
 "nbformat_minor": 5
}
