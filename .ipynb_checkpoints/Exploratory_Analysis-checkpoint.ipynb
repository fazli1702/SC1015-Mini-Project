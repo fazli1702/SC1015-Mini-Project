{
 "cells": [
  {
   "cell_type": "markdown",
   "id": "63debbe5",
   "metadata": {},
   "source": [
    "# Exploratory Analysis\n",
    "\n",
    "Having cleaned our raw data in the previous notebook, we now have the appropriate data that we can work with.\n",
    "\n",
    "Our main goal is to predict the `Severity` of the accident based on the different variables that we are given. Thus, we now want to find the relationship of the different variables with the `Severity` of the accident"
   ]
  },
  {
   "cell_type": "code",
   "execution_count": null,
   "id": "5bb1aaea",
   "metadata": {},
   "outputs": [],
   "source": [
    "import pandas as pd\n",
    "import numpy as np\n",
    "import seaborn as sb\n",
    "import matplotlib.pyplot as plt\n",
    "import datetime as dt\n",
    "sb.set()"
   ]
  },
  {
   "cell_type": "code",
   "execution_count": null,
   "id": "86280efd",
   "metadata": {},
   "outputs": [],
   "source": [
    "cal_accident_df = pd.read_csv('california_accident_data.csv')"
   ]
  },
  {
   "cell_type": "markdown",
   "id": "3034c579",
   "metadata": {},
   "source": [
    "We then look at the summary of the data given"
   ]
  },
  {
   "cell_type": "code",
   "execution_count": null,
   "id": "a440e43b",
   "metadata": {},
   "outputs": [],
   "source": [
    "cal_accident_df.head()"
   ]
  },
  {
   "cell_type": "code",
   "execution_count": null,
   "id": "aa7a3957",
   "metadata": {},
   "outputs": [],
   "source": [
    "print('shape:', cal_accident_df.shape)\n",
    "print(cal_accident_df.info())"
   ]
  },
  {
   "cell_type": "code",
   "execution_count": null,
   "id": "f93d6207",
   "metadata": {},
   "outputs": [],
   "source": [
    "cal_accident_df.describe()"
   ]
  },
  {
   "cell_type": "markdown",
   "id": "a97b666b",
   "metadata": {},
   "source": [
    "## Analysis: Severity\n",
    "\n",
    "`Severity`: A scale from 1-4 on how severe the accident is, with 1 being the least severe and 4 being the most\n",
    "\n",
    "Now, let's do some EDA on `Severity`"
   ]
  },
  {
   "cell_type": "code",
   "execution_count": null,
   "id": "fa7a4335",
   "metadata": {},
   "outputs": [],
   "source": [
    "cal_accident_df['Severity'].describe()"
   ]
  },
  {
   "cell_type": "code",
   "execution_count": null,
   "id": "f807e07f",
   "metadata": {},
   "outputs": [],
   "source": [
    "# print count and ratio of total count of the different severity levels\n",
    "print('number of Severity levels:', len(cal_accident_df['Severity'].unique()))\n",
    "count = cal_accident_df['Severity'].value_counts()\n",
    "ratio = round(cal_accident_df['Severity'].value_counts(normalize=True) * 100, 2)\n",
    "tmp = pd.concat([count, ratio], axis=1, keys=['count', '%'])\n",
    "print(tmp)\n",
    "\n",
    "# plot bar and pie chart\n",
    "f, axes = plt.subplots(1, 2, figsize=(14, 8))\n",
    "\n",
    "axes[0].set_title('Percentage Severity Distribution')\n",
    "cal_accident_df['Severity'].value_counts().plot.pie(autopct = '%1.1f%%', ax = axes[0])\n",
    "\n",
    "axes[1].set_title('Count')\n",
    "sb.countplot(x = 'Severity', data = cal_accident_df, ax = axes[1])\n",
    "\n",
    "plt.show()"
   ]
  },
  {
   "cell_type": "markdown",
   "id": "51d49cc3",
   "metadata": {},
   "source": [
    "From the above, we can see that the average `Severity` level is 2, with the mean, median and mode of `Severity` being 2. We also note that the `Severity` level of 1 & 4 are minimal, with their percentage distribution being less than 1%. This information will be helpful for us later on in our EDA"
   ]
  },
  {
   "cell_type": "markdown",
   "id": "7e92f43d",
   "metadata": {},
   "source": [
    "## Null Values\n",
    "\n",
    "We want to see the number of null values that each variable has"
   ]
  },
  {
   "cell_type": "code",
   "execution_count": null,
   "id": "9733d499",
   "metadata": {},
   "outputs": [],
   "source": [
    "count = cal_accident_df.isna().sum()\n",
    "ratio = round(cal_accident_df.isna().mean() * 100, 2)\n",
    "null_values = pd.concat([count, ratio], axis = 1, keys = ['count', '%'])\n",
    "print(null_values.sort_values(by='%', ascending=False))"
   ]
  },
  {
   "cell_type": "markdown",
   "id": "a995fe2e",
   "metadata": {},
   "source": [
    "## Analysis: Date & Time\n",
    "\n",
    "The variable `Start_Time` provide us with the date and time of the accident. Let us first convert the column type to python `datetime` object. This will make it easier for us when comparing and grouping them."
   ]
  },
  {
   "cell_type": "code",
   "execution_count": null,
   "id": "3a0dd30a",
   "metadata": {},
   "outputs": [],
   "source": [
    "# convert Start_Time to datetime object\n",
    "cal_accident_df['Start_Time'] = pd.to_datetime(cal_accident_df['Start_Time'])\n",
    "print(cal_accident_df['Start_Time'].dtype)"
   ]
  },
  {
   "cell_type": "markdown",
   "id": "ced7d0ab",
   "metadata": {},
   "source": [
    "### Month\n",
    "\n",
    "Let us group them by their month and severity level"
   ]
  },
  {
   "cell_type": "code",
   "execution_count": null,
   "id": "d3e9f915",
   "metadata": {},
   "outputs": [],
   "source": [
    "# Group DataFrame by month and severity, and count occurrences\n",
    "month_counts = cal_accident_df.groupby([cal_accident_df['Start_Time'].dt.month, 'Severity']).size().unstack(fill_value=0)\n",
    "print(month_counts)\n",
    "\n",
    "# Plot a stacked bar graph\n",
    "month_counts.plot(kind='bar', stacked=True)\n",
    "plt.xlabel('Month')\n",
    "plt.ylabel('Count')\n",
    "plt.title('Number of Occurrences by Month and Severity')\n",
    "plt.xticks(rotation=0)  # Ensure x-axis labels are not rotated\n",
    "plt.legend(title='Severity')\n",
    "plt.tight_layout()\n",
    "plt.show()"
   ]
  },
  {
   "cell_type": "code",
   "execution_count": null,
   "id": "8e4bf6b3",
   "metadata": {},
   "outputs": [],
   "source": [
    "# group them by severity\n",
    "acc_severity_1 = pd.DataFrame(cal_accident_df[cal_accident_df['Severity'] == 1])\n",
    "acc_severity_2 = pd.DataFrame(cal_accident_df[cal_accident_df['Severity'] == 2])\n",
    "acc_severity_3 = pd.DataFrame(cal_accident_df[cal_accident_df['Severity'] == 3])\n",
    "acc_severity_4 = pd.DataFrame(cal_accident_df[cal_accident_df['Severity'] == 4])\n",
    "\n",
    "month_counts_1 = acc_severity_1.groupby(acc_severity_1['Start_Time'].dt.month).size()\n",
    "percentage_1 = round((month_counts_1 / month_counts_1.sum()) * 100, 2)\n",
    "month_counts_2 = acc_severity_2.groupby(acc_severity_2['Start_Time'].dt.month).size()\n",
    "percentage_2 = round((month_counts_2 / month_counts_2.sum()) * 100, 2)\n",
    "month_counts_3 = acc_severity_3.groupby(acc_severity_3['Start_Time'].dt.month).size()\n",
    "percentage_3 = round((month_counts_3 / month_counts_3.sum()) * 100, 2)\n",
    "month_counts_4 = acc_severity_4.groupby(acc_severity_4['Start_Time'].dt.month).size()\n",
    "percentage_4 = round((month_counts_4 / month_counts_4.sum()) * 100, 2)\n",
    "\n",
    "tmp = pd.concat([month_counts_1, percentage_1,\n",
    "                 month_counts_2, percentage_2,\n",
    "                 month_counts_3, percentage_3,\n",
    "                 month_counts_4, percentage_4],\n",
    "                 axis=1, keys=['1', '%', '2', '%', '3', '%', '4', '%'])\n",
    "tmp = tmp.fillna(0)\n",
    "tmp = tmp.sort_index(ascending=True)\n",
    "print(tmp)\n",
    "\n",
    "\n",
    "# plot graph\n",
    "f, axes = plt.subplots(1, 4, figsize= (14, 6))\n",
    "month_counts_1.plot(kind='bar', title='Severity = 1', ax=axes[0])\n",
    "month_counts_2.plot(kind='bar', title='Severity = 2', ax=axes[1])\n",
    "month_counts_3.plot(kind='bar', title='Severity = 3', ax=axes[2])\n",
    "month_counts_4.plot(kind='bar', title='Severity = 4', ax=axes[3])"
   ]
  },
  {
   "cell_type": "markdown",
   "id": "1f186e42",
   "metadata": {},
   "source": [
    "### Conclusion\n",
    "\n",
    "It seems that the number of accidents are most during the start and end of the year while it is at its least during the middle of the year. However, upon further inspection, this seems to be only true for `Severity=2`. \n",
    "\n",
    "Futher inspection of other factors may lead explain the differing trends"
   ]
  },
  {
   "cell_type": "markdown",
   "id": "b6aa797b",
   "metadata": {},
   "source": [
    "### Day\n",
    "\n",
    "Let us group them by their day and severity level"
   ]
  },
  {
   "cell_type": "code",
   "execution_count": null,
   "id": "cb99a20a",
   "metadata": {},
   "outputs": [],
   "source": [
    "day_order = ['Monday', 'Tuesday', 'Wednesday', 'Thursday', 'Friday', 'Saturday', 'Sunday']\n",
    "\n",
    "# Group DataFrame by month and severity, and count occurrences\n",
    "day_counts = cal_accident_df.groupby([cal_accident_df['Start_Time'].dt.day_name(), 'Severity']).size().unstack(fill_value=0)\n",
    "day_counts = day_counts.reindex(day_order)\n",
    "print(day_counts)\n",
    "\n",
    "# Plot a stacked bar graph\n",
    "day_counts.plot(kind='bar', stacked=True)\n",
    "plt.xlabel('Day')\n",
    "plt.ylabel('Count')\n",
    "plt.title('Number of Occurrences by Day and Severity')\n",
    "plt.xticks(rotation=0)  # Ensure x-axis labels are not rotated\n",
    "plt.legend(title='Severity')\n",
    "plt.tight_layout()\n",
    "plt.show()"
   ]
  },
  {
   "cell_type": "code",
   "execution_count": null,
   "id": "c908c115",
   "metadata": {},
   "outputs": [],
   "source": [
    "day_counts_1 = acc_severity_1.groupby(acc_severity_1['Start_Time'].dt.day_name()).size()\n",
    "percentage_1 = round((day_counts_1 / day_counts_1.sum()) * 100, 2)\n",
    "day_counts_2 = acc_severity_2.groupby(acc_severity_2['Start_Time'].dt.day_name()).size()\n",
    "percentage_2 = round((day_counts_2 / day_counts_2.sum()) * 100, 2)\n",
    "day_counts_3 = acc_severity_3.groupby(acc_severity_3['Start_Time'].dt.day_name()).size()\n",
    "percentage_3 = round((day_counts_3 / day_counts_3.sum()) * 100, 2)\n",
    "day_counts_4 = acc_severity_4.groupby(acc_severity_4['Start_Time'].dt.day_name()).size()\n",
    "percentage_4 = round((day_counts_4 / day_counts_4.sum()) * 100, 2)\n",
    "\n",
    "day_order = ['Monday', 'Tuesday', 'Wednesday', 'Thursday', 'Friday', 'Saturday', 'Sunday']\n",
    "day_counts_1 = day_counts_1.reindex(day_order)\n",
    "day_counts_2 = day_counts_2.reindex(day_order)\n",
    "day_counts_3 = day_counts_3.reindex(day_order)\n",
    "day_counts_4 = day_counts_4.reindex(day_order)\n",
    "\n",
    "tmp = pd.concat([day_counts_1, percentage_1,\n",
    "                 day_counts_2, percentage_2,\n",
    "                 day_counts_3, percentage_3,\n",
    "                 day_counts_4, percentage_4],\n",
    "                 axis=1, keys=['1', '%', '2', '%', '3', '%', '4', '%'])\n",
    "\n",
    "# tmp = tmp.reindex(day_order)\n",
    "print(tmp)\n",
    "\n",
    "\n",
    "# plot graph\n",
    "f, axes = plt.subplots(1, 4, figsize= (14, 6))\n",
    "day_counts_1.plot(kind='bar', title='Severity = 1', ax=axes[0])\n",
    "day_counts_2.plot(kind='bar', title='Severity = 2', ax=axes[1])\n",
    "day_counts_3.plot(kind='bar', title='Severity = 3', ax=axes[2])\n",
    "day_counts_4.plot(kind='bar', title='Severity = 4', ax=axes[3])"
   ]
  },
  {
   "cell_type": "markdown",
   "id": "fd1f06e1",
   "metadata": {},
   "source": [
    "### Conclusion\n",
    "\n",
    "It seems that all `Severity` levels follow the trend of higher number of accidents in the weekdays, with the most occuring on Friday, with a significant drop on the weekends. This is as suspected as most people are working on the weekdays, meaning that they need to commute work and with more people on the roads, more accidents tend to happen"
   ]
  },
  {
   "cell_type": "markdown",
   "id": "b89970fd",
   "metadata": {},
   "source": [
    "### Hour\n",
    "\n",
    "Let us group them by their hour and severity level"
   ]
  },
  {
   "cell_type": "code",
   "execution_count": null,
   "id": "5ad0d0d3",
   "metadata": {},
   "outputs": [],
   "source": [
    "# Group DataFrame by hour and severity, and count occurrences\n",
    "hour_counts = cal_accident_df.groupby([cal_accident_df['Start_Time'].dt.hour, 'Severity']).size().unstack(fill_value=0)\n",
    "print(hour_counts)\n",
    "\n",
    "# Plot a stacked bar graph\n",
    "hour_counts.plot(kind='bar', stacked=True)\n",
    "plt.xlabel('Hour')\n",
    "plt.ylabel('Count')\n",
    "plt.title('Number of Occurrences by Hour and Severity')\n",
    "plt.xticks(rotation=0)  # Ensure x-axis labels are not rotated\n",
    "plt.legend(title='Severity')\n",
    "plt.tight_layout()\n",
    "plt.show()"
   ]
  },
  {
   "cell_type": "code",
   "execution_count": null,
   "id": "7fc11319",
   "metadata": {},
   "outputs": [],
   "source": [
    "hour_counts_1 = acc_severity_1.groupby(acc_severity_1['Start_Time'].dt.hour).size()\n",
    "percentage_1 = round((hour_counts_1 / hour_counts_1.sum()) * 100, 2)\n",
    "hour_counts_2 = acc_severity_2.groupby(acc_severity_2['Start_Time'].dt.hour).size()\n",
    "percentage_2 = round((hour_counts_2 / hour_counts_2.sum()) * 100, 2)\n",
    "hour_counts_3 = acc_severity_3.groupby(acc_severity_3['Start_Time'].dt.hour).size()\n",
    "percentage_3 = round((hour_counts_3 / hour_counts_3.sum()) * 100, 2)\n",
    "hour_counts_4 = acc_severity_4.groupby(acc_severity_4['Start_Time'].dt.hour).size()\n",
    "percentage_4 = round((hour_counts_4 / hour_counts_4.sum()) * 100, 2)\n",
    "\n",
    "tmp = pd.concat([hour_counts_1, percentage_1,\n",
    "                 hour_counts_2, percentage_2,\n",
    "                 hour_counts_3, percentage_3,\n",
    "                 hour_counts_4, percentage_4],\n",
    "                 axis=1, keys=['1', '%', '2', '%', '3', '%', '4', '%'])\n",
    "\n",
    "# tmp = tmp.reindex(day_order)\n",
    "print(tmp)\n",
    "\n",
    "\n",
    "# plot graph\n",
    "f, axes = plt.subplots(1, 4, figsize= (14, 6))\n",
    "hour_counts_1.plot(kind='bar', title='Severity = 1', ax=axes[0], xticks=range(0, 24, 4))\n",
    "hour_counts_2.plot(kind='bar', title='Severity = 2', ax=axes[1], xticks=range(0, 24, 4))\n",
    "hour_counts_3.plot(kind='bar', title='Severity = 3', ax=axes[2], xticks=range(0, 24, 4))\n",
    "hour_counts_4.plot(kind='bar', title='Severity = 4', ax=axes[3], xticks=range(0, 24, 4))"
   ]
  },
  {
   "cell_type": "markdown",
   "id": "1bdf6778",
   "metadata": {},
   "source": [
    "### Conclusion\n",
    "\n",
    "It seems that there is a spike in the number of accidents from hour 6-9 and "
   ]
  },
  {
   "cell_type": "markdown",
   "id": "6649795b",
   "metadata": {},
   "source": [
    "## Analysis: boolean values\n",
    "\n",
    "From the summary, we can see that columns 12 to 24 consist of boolean values. These variables are main road features such as objects, road sign, buildings. We then decided to see the relationship of the different variables with `Severity`"
   ]
  },
  {
   "cell_type": "code",
   "execution_count": null,
   "id": "6cfdc50a",
   "metadata": {},
   "outputs": [],
   "source": [
    "bool_cols = ['Amenity','Bump','Crossing','Give_Way','Junction','No_Exit','Railway','Roundabout','Station','Stop',\n",
    "             'Traffic_Calming','Traffic_Signal','Turning_Loop']"
   ]
  },
  {
   "cell_type": "code",
   "execution_count": null,
   "id": "177f02bc",
   "metadata": {},
   "outputs": [],
   "source": [
    "# print count and corresponding ratio of T/F\n",
    "for col in bool_cols:\n",
    "    count = cal_accident_df[col].value_counts()\n",
    "    ratio = round(cal_accident_df[col].value_counts(normalize=True) * 100, 2)\n",
    "    tmp = pd.concat([count, ratio], axis=1, keys=['count', '%'])\n",
    "    print(tmp)\n",
    "    print('-'*40)"
   ]
  },
  {
   "cell_type": "markdown",
   "id": "be6e90d3",
   "metadata": {},
   "source": [
    "## Conclusion\n",
    "\n",
    "From the above data, we can see that almost all of the columns have at > 90% False outcome (`Junction` has 89 % False but we round it up to 90 %)\n",
    "\n",
    "This makes sense as the presence of such road features would make drivers be more alert and thus would react accordingly to their surroundings and environment"
   ]
  },
  {
   "cell_type": "markdown",
   "id": "6f390534",
   "metadata": {},
   "source": [
    "## Analysing boolean values\n",
    "\n",
    "From the summary, we can see that columns 12 to 24 consist of boolean values. These variables are main road features such as objects, road sign, buildings. We then decided to see the relationship of the different variables with `Severity`"
   ]
  },
  {
   "cell_type": "code",
   "execution_count": null,
   "id": "c5da3205",
   "metadata": {},
   "outputs": [],
   "source": [
    "bool_cols = ['Amenity','Bump','Crossing','Give_Way','Junction','No_Exit','Railway','Roundabout','Station','Stop',\n",
    "             'Traffic_Calming','Traffic_Signal','Turning_Loop']"
   ]
  },
  {
   "cell_type": "code",
   "execution_count": null,
   "id": "d914897a",
   "metadata": {},
   "outputs": [],
   "source": [
    "# print count and corresponding ratio of T/F\n",
    "for col in bool_cols:\n",
    "    count = cal_accident_df[col].value_counts()\n",
    "    ratio = cal_accident_df[col].value_counts(normalize=True)\n",
    "    tmp = pd.concat([count, ratio], axis=1, keys=['count', 'ratio'])\n",
    "    print(tmp)\n",
    "    print('-'*40)"
   ]
  },
  {
   "cell_type": "markdown",
   "id": "46d72c69",
   "metadata": {},
   "source": [
    "From the above data, we can see that almost all of the columns have at > 90% False outcome (`Junction` has 89 % False but we round it up to 90 %)"
   ]
  },
  {
   "cell_type": "markdown",
   "id": "b3312d6e",
   "metadata": {},
   "source": [
    "# Analysing numerical data"
   ]
  },
  {
   "cell_type": "code",
   "execution_count": null,
   "id": "e03e7c89",
   "metadata": {},
   "outputs": [],
   "source": [
    "numeric_data = pd.DataFrame(cal_accident_df[[\"Severity\", \"Humidity(%)\", \"Distance\", \"Visibility\", \"Wind_Speed\", \"Temperature\", \n",
    "                                             \"Wind_Chill\", \"Precipitation\", \"Pressure\"]])\n",
    "\n",
    "f, axes = plt.subplots(9, 3, figsize=(30, 40))\n",
    "\n",
    "count = 0\n",
    "for var in numeric_data:\n",
    "    sb.boxplot(data = numeric_data[var], orient = \"h\", ax = axes[count,0])\n",
    "    sb.histplot(data = numeric_data[var], ax = axes[count,1])\n",
    "    sb.violinplot(data = numeric_data[var], orient = \"h\", ax = axes[count,2])\n",
    "    count += 1\n",
    "\n"
   ]
  },
  {
   "cell_type": "code",
   "execution_count": null,
   "id": "f369c387",
   "metadata": {},
   "outputs": [],
   "source": [
    "    # Correlation Matrix\n",
    "    print(numeric_data.corr())\n",
    "\n",
    "    # Heatmap of the Correlation Matrix\n",
    "    f = plt.figure(figsize=(20, 20))\n",
    "    sb.heatmap(numeric_data.corr(), vmin = -1, vmax = 1, linewidths = 1,\n",
    "               annot = True, fmt = \".2f\", annot_kws = {\"size\": 18}, cmap = \"RdBu\")"
   ]
  },
  {
   "cell_type": "code",
   "execution_count": null,
   "id": "fb778f73",
   "metadata": {},
   "outputs": [],
   "source": [
    "# Draw pairs of variables against one another\n",
    "sb.pairplot(data = numeric_data)"
   ]
  },
  {
   "cell_type": "code",
   "execution_count": null,
   "id": "480aae5b",
   "metadata": {},
   "outputs": [],
   "source": [
    "severity_4_df = pd.DataFrame(cal_accident_df[cal_accident_df[\"Severity\"] == 4])\n",
    "severity_3_df = pd.DataFrame(cal_accident_df[cal_accident_df[\"Severity\"] == 3])\n",
    "severity_2_df = pd.DataFrame(cal_accident_df[cal_accident_df[\"Severity\"] == 2])\n",
    "severity_1_df = pd.DataFrame(cal_accident_df[cal_accident_df[\"Severity\"] == 1])"
   ]
  },
  {
   "cell_type": "code",
   "execution_count": null,
   "id": "ec1f9803",
   "metadata": {},
   "outputs": [],
   "source": [
    "severity_4_df.info()\n"
   ]
  },
  {
   "cell_type": "markdown",
   "id": "4658aedb",
   "metadata": {},
   "source": [
    "## Severity = 4"
   ]
  },
  {
   "cell_type": "code",
   "execution_count": null,
   "id": "9d5e586a",
   "metadata": {},
   "outputs": [],
   "source": [
    "severity_4_df[[\"Humidity(%)\", \"Distance\", \"Visibility\", \"Wind_Speed\", \"Temperature\", \n",
    "                \"Wind_Chill\", \"Precipitation\", \"Pressure\"]].describe()"
   ]
  },
  {
   "cell_type": "code",
   "execution_count": null,
   "id": "03986488",
   "metadata": {},
   "outputs": [],
   "source": [
    "numeric_value = [\"Humidity(%)\", \"Distance\", \"Visibility\", \"Wind_Speed\", \"Temperature\", \n",
    "                \"Wind_Chill\", \"Precipitation\", \"Pressure\"]\n",
    "\n",
    "f, axes = plt.subplots(8, 3, figsize=(30, 40))\n",
    "\n",
    "count = 0\n",
    "for var in numeric_value:\n",
    "    temp_db = pd.DataFrame(severity_4_df[var])\n",
    "    sb.boxplot(data = temp_db, orient = \"h\", ax = axes[count, 0])\n",
    "    sb.histplot(data = temp_db, ax = axes[count,1])\n",
    "    sb.violinplot(data = temp_db, orient = \"h\", ax = axes[count,2])\n",
    "    count += 1\n",
    "\n"
   ]
  },
  {
   "cell_type": "markdown",
   "id": "7ad6d11b",
   "metadata": {},
   "source": [
    "## Severity = 3"
   ]
  },
  {
   "cell_type": "code",
   "execution_count": null,
   "id": "01e588e7",
   "metadata": {},
   "outputs": [],
   "source": [
    "severity_3_df[[\"Humidity(%)\", \"Distance\", \"Visibility\", \"Wind_Speed\", \"Temperature\", \n",
    "                \"Wind_Chill\", \"Precipitation\", \"Pressure\"]].describe()"
   ]
  },
  {
   "cell_type": "code",
   "execution_count": null,
   "id": "ea47ceca",
   "metadata": {},
   "outputs": [],
   "source": [
    "f, axes = plt.subplots(8, 3, figsize=(30, 40))\n",
    "\n",
    "count = 0\n",
    "for var in numeric_value:\n",
    "    temp_db = pd.DataFrame(severity_3_df[var])\n",
    "    sb.boxplot(data = temp_db, orient = \"h\", ax = axes[count, 0])\n",
    "    sb.histplot(data = temp_db, ax = axes[count,1])\n",
    "    sb.violinplot(data = temp_db, orient = \"h\", ax = axes[count,2])\n",
    "    count += 1\n",
    "\n"
   ]
  },
  {
   "cell_type": "markdown",
   "id": "dc642774",
   "metadata": {},
   "source": [
    "## Severity = 2"
   ]
  },
  {
   "cell_type": "code",
   "execution_count": null,
   "id": "660c73e7",
   "metadata": {},
   "outputs": [],
   "source": [
    "severity_2_df[[\"Humidity(%)\", \"Distance\", \"Visibility\", \"Wind_Speed\", \"Temperature\", \n",
    "                \"Wind_Chill\", \"Precipitation\", \"Pressure\"]].describe()"
   ]
  },
  {
   "cell_type": "code",
   "execution_count": null,
   "id": "1af2eadf",
   "metadata": {},
   "outputs": [],
   "source": [
    "f, axes = plt.subplots(8, 3, figsize=(30, 40))\n",
    "\n",
    "count = 0\n",
    "for var in numeric_value:\n",
    "    temp_db = pd.DataFrame(severity_2_df[var])\n",
    "    sb.boxplot(data = temp_db, orient = \"h\", ax = axes[count, 0])\n",
    "    sb.histplot(data = temp_db, ax = axes[count,1])\n",
    "    sb.violinplot(data = temp_db, orient = \"h\", ax = axes[count,2])\n",
    "    count += 1"
   ]
  },
  {
   "cell_type": "markdown",
   "id": "4af38f88",
   "metadata": {},
   "source": [
    "## Severity = 1"
   ]
  },
  {
   "cell_type": "code",
   "execution_count": null,
   "id": "d33a8757",
   "metadata": {},
   "outputs": [],
   "source": [
    "severity_1_df[[\"Humidity(%)\", \"Distance\", \"Visibility\", \"Wind_Speed\", \"Temperature\", \n",
    "                \"Wind_Chill\", \"Precipitation\", \"Pressure\"]].describe()"
   ]
  },
  {
   "cell_type": "code",
   "execution_count": null,
   "id": "8eb8cd78",
   "metadata": {},
   "outputs": [],
   "source": [
    "f, axes = plt.subplots(8, 3, figsize=(30, 40))\n",
    "\n",
    "count = 0\n",
    "for var in numeric_value:\n",
    "    temp_db = pd.DataFrame(severity_1_df[var])\n",
    "    sb.boxplot(data = temp_db, orient = \"h\", ax = axes[count, 0])\n",
    "    sb.histplot(data = temp_db, ax = axes[count,1])\n",
    "    sb.violinplot(data = temp_db, orient = \"h\", ax = axes[count,2])\n",
    "    count += 1"
   ]
  },
  {
   "cell_type": "markdown",
   "id": "924dba06",
   "metadata": {},
   "source": [
    "From the analysis of how variables - \"Humidity(%)\", \"Distance\", \"Visibility\", \"Wind_Speed\", \"Temperature\", \"Wind_Chill\", \"Precipitation\", \"Pressure\" \n",
    "we can see that most accidents occur in normal weather condition. This shows that drivers may be driving less carefully in good weather conditions as compared to "
   ]
  },
  {
   "cell_type": "code",
   "execution_count": null,
   "id": "b4a5dd78",
   "metadata": {},
   "outputs": [],
   "source": []
  }
 ],
 "metadata": {
  "kernelspec": {
   "display_name": "Python 3 (ipykernel)",
   "language": "python",
   "name": "python3"
  },
  "language_info": {
   "codemirror_mode": {
    "name": "ipython",
    "version": 3
   },
   "file_extension": ".py",
   "mimetype": "text/x-python",
   "name": "python",
   "nbconvert_exporter": "python",
   "pygments_lexer": "ipython3",
   "version": "3.11.5"
  }
 },
 "nbformat": 4,
 "nbformat_minor": 5
}
