{
 "cells": [
  {
   "cell_type": "markdown",
   "id": "3f57d33f",
   "metadata": {},
   "source": [
    "---\n",
    "# Machine Learning\n",
    "\n",
    "Now that we have done our EDA, we can move on to machine learning where we will try to predict `Severity` based on the other factors that are provided."
   ]
  },
  {
   "cell_type": "markdown",
   "id": "6ff22a87",
   "metadata": {},
   "source": [
    "First, we need to split our data to `test` and `train` dataset"
   ]
  },
  {
   "cell_type": "code",
   "execution_count": null,
   "id": "1a720753",
   "metadata": {},
   "outputs": [],
   "source": [
    "# from sklearn.model_selection import train_test_split\n",
    "\n",
    "predictors = [ele for ele in ml_df.columns if ele != 'Severity']\n",
    "# print(predictors)\n",
    "\n",
    "y = pd.DataFrame(ml_df['Severity'])\n",
    "X = pd.DataFrame(ml_df[predictors])\n",
    "\n",
    "# Split the Dataset into Train and Test\n",
    "X_train, X_test, y_train, y_test = train_test_split(X, y, test_size = 0.2)"
   ]
  },
  {
   "cell_type": "markdown",
   "id": "dcdbfbee",
   "metadata": {},
   "source": [
    "## Decision Tree Classifier"
   ]
  },
  {
   "cell_type": "code",
   "execution_count": null,
   "id": "68528e78",
   "metadata": {},
   "outputs": [],
   "source": [
    "from sklearn.tree import DecisionTreeClassifier\n",
    "\n",
    "dectree = DecisionTreeClassifier()  # create the decision tree object\n",
    "dectree.fit(X_train, y_train)"
   ]
  },
  {
   "cell_type": "code",
   "execution_count": null,
   "id": "8e1e1a5f",
   "metadata": {},
   "outputs": [],
   "source": [
    "# Predict Response corresponding to Predictors\n",
    "y_train_pred = dectree.predict(X_train)\n",
    "y_test_pred = dectree.predict(X_test)\n",
    "\n",
    "# Check the Goodness of Fit (on Train Data)\n",
    "print(\"Goodness of Fit of Model \\tTrain Dataset\")\n",
    "print(\"Classification Accuracy \\t:\", dectree.score(X_train, y_train))\n",
    "print()\n",
    "\n",
    "# Check the Goodness of Fit (on Test Data)\n",
    "print(\"Goodness of Fit of Model \\tTest Dataset\")\n",
    "print(\"Classification Accuracy \\t:\", dectree.score(X_test, y_test))\n",
    "print()\n",
    "\n",
    "# Plot the Confusion Matrix for Train and Test\n",
    "f, axes = plt.subplots(1, 2, figsize=(12, 4))\n",
    "sb.heatmap(confusion_matrix(y_train, y_train_pred),\n",
    "           annot = True, fmt=\".0f\", annot_kws={\"size\": 18}, ax = axes[0])\n",
    "sb.heatmap(confusion_matrix(y_test, y_test_pred), \n",
    "           annot = True, fmt=\".0f\", annot_kws={\"size\": 18}, ax = axes[1])\n",
    "\n",
    "labels = ['1', '2', '3', '4']\n",
    "axes[0].set_title('Train')\n",
    "axes[0].set_xlabel('Predicted')\n",
    "axes[0].set_ylabel('True'); \n",
    "axes[0].xaxis.set_ticklabels(labels); \n",
    "axes[0].yaxis.set_ticklabels(labels);\n",
    "\n",
    "axes[1].set_title('Test')\n",
    "axes[1].set_xlabel('Predicted')\n",
    "axes[1].set_ylabel('True'); \n",
    "axes[1].xaxis.set_ticklabels(labels); \n",
    "axes[1].yaxis.set_ticklabels(labels);"
   ]
  },
  {
   "cell_type": "code",
   "execution_count": null,
   "id": "da7204a8",
   "metadata": {},
   "outputs": [],
   "source": [
    "# Plot the trained Decision Tree\n",
    "from sklearn.tree import plot_tree\n",
    "\n",
    "f = plt.figure(figsize=(12,12))\n",
    "plot_tree(dectree, filled=True, rounded=True, \n",
    "          feature_names=predictors, \n",
    "          class_names=labels)"
   ]
  },
  {
   "cell_type": "markdown",
   "id": "c4db29f2",
   "metadata": {},
   "source": [
    "## Random Forest Classifier"
   ]
  },
  {
   "cell_type": "code",
   "execution_count": null,
   "id": "04ac17e6",
   "metadata": {},
   "outputs": [],
   "source": [
    "from sklearn.ensemble import RandomForestClassifier\n",
    "\n",
    "rf = RandomForestClassifier()\n",
    "rf.fit(X_train, y_train)"
   ]
  },
  {
   "cell_type": "code",
   "execution_count": null,
   "id": "8a20bb86",
   "metadata": {},
   "outputs": [],
   "source": [
    "from sklearn.metrics import confusion_matrix\n",
    "\n",
    "# Predict Response corresponding to Predictors\n",
    "y_train_pred = rf.predict(X_train)\n",
    "y_test_pred = rf.predict(X_test)\n",
    "\n",
    "# Check the Goodness of Fit (on Train Data)\n",
    "print(\"Goodness of Fit of Model \\tTrain Dataset\")\n",
    "print(\"Classification Accuracy \\t:\", rf.score(X_train, y_train))\n",
    "print()\n",
    "\n",
    "# Check the Goodness of Fit (on Test Data)\n",
    "print(\"Goodness of Fit of Model \\tTest Dataset\")\n",
    "print(\"Classification Accuracy \\t:\", rf.score(X_test, y_test))\n",
    "print()\n",
    "\n",
    "# Plot the Confusion Matrix for Train and Test\n",
    "f, axes = plt.subplots(1, 2, figsize=(12, 4))\n",
    "sb.heatmap(confusion_matrix(y_train, y_train_pred),\n",
    "           annot = True, fmt=\".0f\", annot_kws={\"size\": 18}, ax = axes[0])\n",
    "sb.heatmap(confusion_matrix(y_test, y_test_pred), \n",
    "           annot = True, fmt=\".0f\", annot_kws={\"size\": 18}, ax = axes[1])\n",
    "\n",
    "labels = ['1', '2', '3', '4']\n",
    "axes[0].set_title('Train')\n",
    "axes[0].set_xlabel('Predicted')\n",
    "axes[0].set_ylabel('True'); \n",
    "axes[0].xaxis.set_ticklabels(labels); \n",
    "axes[0].yaxis.set_ticklabels(labels);\n",
    "\n",
    "axes[1].set_title('Test')\n",
    "axes[1].set_xlabel('Predicted')\n",
    "axes[1].set_ylabel('True'); \n",
    "axes[1].xaxis.set_ticklabels(labels); \n",
    "axes[1].yaxis.set_ticklabels(labels);"
   ]
  },
  {
   "cell_type": "markdown",
   "id": "8341bf68",
   "metadata": {},
   "source": [
    "## Linear Regression"
   ]
  },
  {
   "cell_type": "code",
   "execution_count": null,
   "id": "92c636ec",
   "metadata": {},
   "outputs": [],
   "source": [
    "from sklearn.linear_model import LogisticRegression\n",
    "\n",
    "log_model = LogisticRegression()\n",
    "log_model.fit(X_train, y_train)"
   ]
  },
  {
   "cell_type": "code",
   "execution_count": null,
   "id": "05171d13",
   "metadata": {},
   "outputs": [],
   "source": [
    "from sklearn.metrics import confusion_matrix\n",
    "\n",
    "# Predict Response corresponding to Predictors\n",
    "y_train_pred = log_model.predict(X_train)\n",
    "y_test_pred = log_model.predict(X_test)\n",
    "\n",
    "# Check the Goodness of Fit (on Train Data)\n",
    "print(\"Goodness of Fit of Model \\tTrain Dataset\")\n",
    "print(\"Classification Accuracy \\t:\", log_model.score(X_train, y_train))\n",
    "print()\n",
    "\n",
    "# Check the Goodness of Fit (on Test Data)\n",
    "print(\"Goodness of Fit of Model \\tTest Dataset\")\n",
    "print(\"Classification Accuracy \\t:\", log_model.score(X_test, y_test))\n",
    "print()\n",
    "\n",
    "# Plot the Confusion Matrix for Train and Test\n",
    "f, axes = plt.subplots(1, 2, figsize=(12, 4))\n",
    "sb.heatmap(confusion_matrix(y_train, y_train_pred),\n",
    "           annot = True, fmt=\".0f\", annot_kws={\"size\": 18}, ax = axes[0])\n",
    "sb.heatmap(confusion_matrix(y_test, y_test_pred), \n",
    "           annot = True, fmt=\".0f\", annot_kws={\"size\": 18}, ax = axes[1])\n",
    "\n",
    "labels = ['1', '2', '3', '4']\n",
    "axes[0].set_title('Train')\n",
    "axes[0].set_xlabel('Predicted')\n",
    "axes[0].set_ylabel('True'); \n",
    "axes[0].xaxis.set_ticklabels(labels); \n",
    "axes[0].yaxis.set_ticklabels(labels);\n",
    "\n",
    "axes[1].set_title('Test')\n",
    "axes[1].set_xlabel('Predicted')\n",
    "axes[1].set_ylabel('True'); \n",
    "axes[1].xaxis.set_ticklabels(labels); \n",
    "axes[1].yaxis.set_ticklabels(labels);"
   ]
  },
  {
   "cell_type": "markdown",
   "id": "de2f01d6",
   "metadata": {},
   "source": [
    "## Naive Bayes Gaussian Classifier"
   ]
  },
  {
   "cell_type": "code",
   "execution_count": null,
   "id": "efff747b",
   "metadata": {},
   "outputs": [],
   "source": [
    "from sklearn.naive_bayes import GaussianNB\n",
    "\n",
    "nbgauss = GaussianNB()\n",
    "nbgauss.fit(X_train, y_train)"
   ]
  },
  {
   "cell_type": "code",
   "execution_count": null,
   "id": "8893cf0b",
   "metadata": {},
   "outputs": [],
   "source": [
    "from sklearn.metrics import confusion_matrix\n",
    "\n",
    "# Predict Response corresponding to Predictors\n",
    "y_train_pred = nbgauss.predict(X_train)\n",
    "y_test_pred = nbgauss.predict(X_test)\n",
    "\n",
    "# Check the Goodness of Fit (on Train Data)\n",
    "print(\"Goodness of Fit of Model \\tTrain Dataset\")\n",
    "print(\"Classification Accuracy \\t:\", nbgauss.score(X_train, y_train))\n",
    "print()\n",
    "\n",
    "# Check the Goodness of Fit (on Test Data)\n",
    "print(\"Goodness of Fit of Model \\tTest Dataset\")\n",
    "print(\"Classification Accuracy \\t:\", nbgauss.score(X_test, y_test))\n",
    "print()\n",
    "\n",
    "# Plot the Confusion Matrix for Train and Test\n",
    "f, axes = plt.subplots(1, 2, figsize=(12, 4))\n",
    "sb.heatmap(confusion_matrix(y_train, y_train_pred),\n",
    "           annot = True, fmt=\".0f\", annot_kws={\"size\": 18}, ax = axes[0])\n",
    "sb.heatmap(confusion_matrix(y_test, y_test_pred), \n",
    "           annot = True, fmt=\".0f\", annot_kws={\"size\": 18}, ax = axes[1])\n",
    "\n",
    "labels = ['1', '2', '3', '4']\n",
    "axes[0].set_title('Train')\n",
    "axes[0].set_xlabel('Predicted')\n",
    "axes[0].set_ylabel('True'); \n",
    "axes[0].xaxis.set_ticklabels(labels); \n",
    "axes[0].yaxis.set_ticklabels(labels);\n",
    "\n",
    "axes[1].set_title('Test')\n",
    "axes[1].set_xlabel('Predicted')\n",
    "axes[1].set_ylabel('True'); \n",
    "axes[1].xaxis.set_ticklabels(labels); \n",
    "axes[1].yaxis.set_ticklabels(labels);"
   ]
  },
  {
   "cell_type": "markdown",
   "id": "2d7b3a80",
   "metadata": {},
   "source": [
    "## Support Vector Machines (SVM)"
   ]
  },
  {
   "cell_type": "code",
   "execution_count": null,
   "id": "730b5de7",
   "metadata": {},
   "outputs": [],
   "source": [
    "from sklearn import svm\n",
    "\n",
    "#Create a svm Classifier\n",
    "clf = svm.SVC(kernel='linear') # Linear Kernel\n",
    "clf.fit(X_train, y_train)"
   ]
  },
  {
   "cell_type": "code",
   "execution_count": null,
   "id": "898695af",
   "metadata": {},
   "outputs": [],
   "source": [
    "from sklearn.metrics import confusion_matrix\n",
    "\n",
    "# Predict Response corresponding to Predictors\n",
    "y_train_pred = clf.predict(X_train)\n",
    "y_test_pred = clf.predict(X_test)\n",
    "\n",
    "# Check the Goodness of Fit (on Train Data)\n",
    "print(\"Goodness of Fit of Model \\tTrain Dataset\")\n",
    "print(\"Classification Accuracy \\t:\", clf.score(X_train, y_train))\n",
    "print()\n",
    "\n",
    "# Check the Goodness of Fit (on Test Data)\n",
    "print(\"Goodness of Fit of Model \\tTest Dataset\")\n",
    "print(\"Classification Accuracy \\t:\", clf.score(X_test, y_test))\n",
    "print()\n",
    "\n",
    "# Plot the Confusion Matrix for Train and Test\n",
    "f, axes = plt.subplots(1, 2, figsize=(12, 4))\n",
    "sb.heatmap(confusion_matrix(y_train, y_train_pred),\n",
    "           annot = True, fmt=\".0f\", annot_kws={\"size\": 18}, ax = axes[0])\n",
    "sb.heatmap(confusion_matrix(y_test, y_test_pred), \n",
    "           annot = True, fmt=\".0f\", annot_kws={\"size\": 18}, ax = axes[1])\n",
    "\n",
    "labels = ['1', '2', '3', '4']\n",
    "axes[0].set_title('Train')\n",
    "axes[0].set_xlabel('Predicted')\n",
    "axes[0].set_ylabel('True'); \n",
    "axes[0].xaxis.set_ticklabels(labels); \n",
    "axes[0].yaxis.set_ticklabels(labels);\n",
    "\n",
    "axes[1].set_title('Test')\n",
    "axes[1].set_xlabel('Predicted')\n",
    "axes[1].set_ylabel('True'); \n",
    "axes[1].xaxis.set_ticklabels(labels); \n",
    "axes[1].yaxis.set_ticklabels(labels);"
   ]
  },
  {
   "cell_type": "code",
   "execution_count": null,
   "id": "a78b7f60",
   "metadata": {},
   "outputs": [],
   "source": []
  }
 ],
 "metadata": {
  "kernelspec": {
   "display_name": "Python 3 (ipykernel)",
   "language": "python",
   "name": "python3"
  },
  "language_info": {
   "codemirror_mode": {
    "name": "ipython",
    "version": 3
   },
   "file_extension": ".py",
   "mimetype": "text/x-python",
   "name": "python",
   "nbconvert_exporter": "python",
   "pygments_lexer": "ipython3",
   "version": "3.11.5"
  }
 },
 "nbformat": 4,
 "nbformat_minor": 5
}
